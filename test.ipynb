{
 "cells": [
  {
   "cell_type": "code",
   "execution_count": 1,
   "metadata": {},
   "outputs": [],
   "source": [
    "import pickle\n",
    "import pandas as pd\n",
    "import numpy as np\n",
    "from sklearn.calibration import LabelEncoder\n",
    "import torch\n",
    "from torch_geometric.data import InMemoryDataset, Data\n",
    "from tqdm import tqdm"
   ]
  },
  {
   "cell_type": "code",
   "execution_count": 2,
   "metadata": {},
   "outputs": [
    {
     "name": "stderr",
     "output_type": "stream",
     "text": [
      "C:\\Users\\ACER\\AppData\\Local\\Temp\\ipykernel_18368\\1578321579.py:3: DtypeWarning: Columns (0,2) have mixed types. Specify dtype option on import or set low_memory=False.\n",
      "  clicks_df = pd.read_csv('data/yoochoose/yoochoose-clicks.dat', header=None)\n"
     ]
    },
    {
     "name": "stdout",
     "output_type": "stream",
     "text": [
      "   session_id                 timestamp    item_id\n",
      "0  session_id                 timestamp    item_id\n",
      "1           1  2014-04-07T10:51:09.277Z  214536502\n",
      "2           1  2014-04-07T10:54:09.868Z  214536500\n",
      "3           1  2014-04-07T10:54:46.998Z  214536506\n",
      "4           1  2014-04-07T10:57:00.306Z  214577561\n"
     ]
    }
   ],
   "source": [
    "datatset_size = 1000\n",
    "\n",
    "clicks_df = pd.read_csv('data/yoochoose/yoochoose-clicks.dat', header=None)\n",
    "clicks_df.columns = ['session_id', 'timestamp', 'item_id']\n",
    "print(clicks_df.head(5))\n",
    "\n",
    "# buy_df = pd.read_csv('data/yoochoose/yoochoose-buys.dat', header=None)\n",
    "# buy_df.columns = ['session_id', 'timestamp', 'item_id', 'price', 'quantity']\n",
    "# print(buy_df.head(5))"
   ]
  },
  {
   "cell_type": "code",
   "execution_count": 3,
   "metadata": {},
   "outputs": [
    {
     "data": {
      "text/plain": [
       "array([6509157, 3154739, 8585879, ..., 2186141, 5184809, 2236781],\n",
       "      dtype=object)"
      ]
     },
     "execution_count": 3,
     "metadata": {},
     "output_type": "execute_result"
    }
   ],
   "source": [
    "sampled_session_id = np.random.choice(clicks_df.session_id.unique(), 1000000, replace=False)\n",
    "sampled_session_id"
   ]
  },
  {
   "cell_type": "code",
   "execution_count": 4,
   "metadata": {},
   "outputs": [
    {
     "data": {
      "text/plain": [
       "session_id    1000000\n",
       "timestamp     3565142\n",
       "item_id         41099\n",
       "dtype: int64"
      ]
     },
     "execution_count": 4,
     "metadata": {},
     "output_type": "execute_result"
    }
   ],
   "source": [
    "clicks_df = clicks_df.loc[clicks_df.session_id.isin(sampled_session_id)]\n",
    "clicks_df.nunique()"
   ]
  },
  {
   "cell_type": "code",
   "execution_count": 5,
   "metadata": {},
   "outputs": [
    {
     "data": {
      "text/html": [
       "<div>\n",
       "<style scoped>\n",
       "    .dataframe tbody tr th:only-of-type {\n",
       "        vertical-align: middle;\n",
       "    }\n",
       "\n",
       "    .dataframe tbody tr th {\n",
       "        vertical-align: top;\n",
       "    }\n",
       "\n",
       "    .dataframe thead th {\n",
       "        text-align: right;\n",
       "    }\n",
       "</style>\n",
       "<table border=\"1\" class=\"dataframe\">\n",
       "  <thead>\n",
       "    <tr style=\"text-align: right;\">\n",
       "      <th></th>\n",
       "      <th>session_id</th>\n",
       "      <th>timestamp</th>\n",
       "      <th>item_id</th>\n",
       "    </tr>\n",
       "  </thead>\n",
       "  <tbody>\n",
       "    <tr>\n",
       "      <th>5</th>\n",
       "      <td>2</td>\n",
       "      <td>2014-04-07T13:56:37.614Z</td>\n",
       "      <td>13751</td>\n",
       "    </tr>\n",
       "    <tr>\n",
       "      <th>6</th>\n",
       "      <td>2</td>\n",
       "      <td>2014-04-07T13:57:19.373Z</td>\n",
       "      <td>13751</td>\n",
       "    </tr>\n",
       "    <tr>\n",
       "      <th>7</th>\n",
       "      <td>2</td>\n",
       "      <td>2014-04-07T13:58:37.446Z</td>\n",
       "      <td>26105</td>\n",
       "    </tr>\n",
       "    <tr>\n",
       "      <th>8</th>\n",
       "      <td>2</td>\n",
       "      <td>2014-04-07T13:59:50.710Z</td>\n",
       "      <td>23081</td>\n",
       "    </tr>\n",
       "    <tr>\n",
       "      <th>9</th>\n",
       "      <td>2</td>\n",
       "      <td>2014-04-07T14:00:38.247Z</td>\n",
       "      <td>23086</td>\n",
       "    </tr>\n",
       "  </tbody>\n",
       "</table>\n",
       "</div>"
      ],
      "text/plain": [
       "  session_id                 timestamp  item_id\n",
       "5          2  2014-04-07T13:56:37.614Z    13751\n",
       "6          2  2014-04-07T13:57:19.373Z    13751\n",
       "7          2  2014-04-07T13:58:37.446Z    26105\n",
       "8          2  2014-04-07T13:59:50.710Z    23081\n",
       "9          2  2014-04-07T14:00:38.247Z    23086"
      ]
     },
     "execution_count": 5,
     "metadata": {},
     "output_type": "execute_result"
    }
   ],
   "source": [
    "item_encoder = LabelEncoder()\n",
    "clicks_df['item_id'] = item_encoder.fit_transform(clicks_df['item_id'].astype(int))\n",
    "clicks_df.head()"
   ]
  },
  {
   "cell_type": "code",
   "execution_count": null,
   "metadata": {},
   "outputs": [],
   "source": []
  }
 ],
 "metadata": {
  "language_info": {
   "name": "python"
  }
 },
 "nbformat": 4,
 "nbformat_minor": 2
}
